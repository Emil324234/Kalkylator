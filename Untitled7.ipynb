{
  "nbformat": 4,
  "nbformat_minor": 0,
  "metadata": {
    "colab": {
      "provenance": [],
      "authorship_tag": "ABX9TyO8xYwPC90g/WHQgy+GF2Wb",
      "include_colab_link": true
    },
    "kernelspec": {
      "name": "python3",
      "display_name": "Python 3"
    },
    "language_info": {
      "name": "python"
    }
  },
  "cells": [
    {
      "cell_type": "markdown",
      "metadata": {
        "id": "view-in-github",
        "colab_type": "text"
      },
      "source": [
        "<a href=\"https://colab.research.google.com/github/Emil324234/Kalkylator/blob/main/Untitled7.ipynb\" target=\"_parent\"><img src=\"https://colab.research.google.com/assets/colab-badge.svg\" alt=\"Open In Colab\"/></a>"
      ]
    },
    {
      "cell_type": "code",
      "execution_count": 37,
      "metadata": {
        "colab": {
          "base_uri": "https://localhost:8080/",
          "height": 598
        },
        "id": "S_lx_72EWVLo",
        "outputId": "f1cc3556-2bba-4a6d-9dd8-a88cb5daf238"
      },
      "outputs": [
        {
          "output_type": "stream",
          "name": "stdout",
          "text": [
            "Выберите операцию:\n",
            "1. Сложение\n",
            "2. Вычитание\n",
            "3. Умножение\n",
            "4. Деление\n",
            "5. Возведение в степень\n",
            "6. Квадратный корень\n",
            "7. Факториал\n",
            "8. Синус\n",
            "9. Косинус\n",
            "10. Тангенс\n",
            "11. Выход\n"
          ]
        },
        {
          "output_type": "error",
          "ename": "KeyboardInterrupt",
          "evalue": "ignored",
          "traceback": [
            "\u001b[0;31m---------------------------------------------------------------------------\u001b[0m",
            "\u001b[0;31mKeyboardInterrupt\u001b[0m                         Traceback (most recent call last)",
            "\u001b[0;32m<ipython-input-37-5303ba97b8f0>\u001b[0m in \u001b[0;36m<cell line: 5>\u001b[0;34m()\u001b[0m\n\u001b[1;32m     17\u001b[0m       \u001b[0mprint\u001b[0m\u001b[0;34m(\u001b[0m\u001b[0;34m\"11. Выход\"\u001b[0m\u001b[0;34m)\u001b[0m\u001b[0;34m\u001b[0m\u001b[0;34m\u001b[0m\u001b[0m\n\u001b[1;32m     18\u001b[0m \u001b[0;34m\u001b[0m\u001b[0m\n\u001b[0;32m---> 19\u001b[0;31m       \u001b[0mchoice\u001b[0m \u001b[0;34m=\u001b[0m \u001b[0minput\u001b[0m\u001b[0;34m(\u001b[0m\u001b[0;34m\"Введите номер операции: \"\u001b[0m\u001b[0;34m)\u001b[0m\u001b[0;34m\u001b[0m\u001b[0;34m\u001b[0m\u001b[0m\n\u001b[0m\u001b[1;32m     20\u001b[0m \u001b[0;34m\u001b[0m\u001b[0m\n\u001b[1;32m     21\u001b[0m       \u001b[0;32mif\u001b[0m \u001b[0mchoice\u001b[0m \u001b[0;34m==\u001b[0m \u001b[0;34m'11'\u001b[0m\u001b[0;34m:\u001b[0m\u001b[0;34m\u001b[0m\u001b[0;34m\u001b[0m\u001b[0m\n",
            "\u001b[0;32m/usr/local/lib/python3.10/dist-packages/ipykernel/kernelbase.py\u001b[0m in \u001b[0;36mraw_input\u001b[0;34m(self, prompt)\u001b[0m\n\u001b[1;32m    849\u001b[0m                 \u001b[0;34m\"raw_input was called, but this frontend does not support input requests.\"\u001b[0m\u001b[0;34m\u001b[0m\u001b[0;34m\u001b[0m\u001b[0m\n\u001b[1;32m    850\u001b[0m             )\n\u001b[0;32m--> 851\u001b[0;31m         return self._input_request(str(prompt),\n\u001b[0m\u001b[1;32m    852\u001b[0m             \u001b[0mself\u001b[0m\u001b[0;34m.\u001b[0m\u001b[0m_parent_ident\u001b[0m\u001b[0;34m,\u001b[0m\u001b[0;34m\u001b[0m\u001b[0;34m\u001b[0m\u001b[0m\n\u001b[1;32m    853\u001b[0m             \u001b[0mself\u001b[0m\u001b[0;34m.\u001b[0m\u001b[0m_parent_header\u001b[0m\u001b[0;34m,\u001b[0m\u001b[0;34m\u001b[0m\u001b[0;34m\u001b[0m\u001b[0m\n",
            "\u001b[0;32m/usr/local/lib/python3.10/dist-packages/ipykernel/kernelbase.py\u001b[0m in \u001b[0;36m_input_request\u001b[0;34m(self, prompt, ident, parent, password)\u001b[0m\n\u001b[1;32m    893\u001b[0m             \u001b[0;32mexcept\u001b[0m \u001b[0mKeyboardInterrupt\u001b[0m\u001b[0;34m:\u001b[0m\u001b[0;34m\u001b[0m\u001b[0;34m\u001b[0m\u001b[0m\n\u001b[1;32m    894\u001b[0m                 \u001b[0;31m# re-raise KeyboardInterrupt, to truncate traceback\u001b[0m\u001b[0;34m\u001b[0m\u001b[0;34m\u001b[0m\u001b[0m\n\u001b[0;32m--> 895\u001b[0;31m                 \u001b[0;32mraise\u001b[0m \u001b[0mKeyboardInterrupt\u001b[0m\u001b[0;34m(\u001b[0m\u001b[0;34m\"Interrupted by user\"\u001b[0m\u001b[0;34m)\u001b[0m \u001b[0;32mfrom\u001b[0m \u001b[0;32mNone\u001b[0m\u001b[0;34m\u001b[0m\u001b[0;34m\u001b[0m\u001b[0m\n\u001b[0m\u001b[1;32m    896\u001b[0m             \u001b[0;32mexcept\u001b[0m \u001b[0mException\u001b[0m \u001b[0;32mas\u001b[0m \u001b[0me\u001b[0m\u001b[0;34m:\u001b[0m\u001b[0;34m\u001b[0m\u001b[0;34m\u001b[0m\u001b[0m\n\u001b[1;32m    897\u001b[0m                 \u001b[0mself\u001b[0m\u001b[0;34m.\u001b[0m\u001b[0mlog\u001b[0m\u001b[0;34m.\u001b[0m\u001b[0mwarning\u001b[0m\u001b[0;34m(\u001b[0m\u001b[0;34m\"Invalid Message:\"\u001b[0m\u001b[0;34m,\u001b[0m \u001b[0mexc_info\u001b[0m\u001b[0;34m=\u001b[0m\u001b[0;32mTrue\u001b[0m\u001b[0;34m)\u001b[0m\u001b[0;34m\u001b[0m\u001b[0;34m\u001b[0m\u001b[0m\n",
            "\u001b[0;31mKeyboardInterrupt\u001b[0m: Interrupted by user"
          ]
        }
      ],
      "source": [
        "import math\n",
        "\n",
        "\n",
        "\n",
        "while True:\n",
        "      print(\"Выберите операцию:\")\n",
        "      print(\"1. Сложение\")\n",
        "      print(\"2. Вычитание\")\n",
        "      print(\"3. Умножение\")\n",
        "      print(\"4. Деление\")\n",
        "      print(\"5. Возведение в степень\")\n",
        "      print(\"6. Квадратный корень\")\n",
        "      print(\"7. Факториал\")\n",
        "      print(\"8. Синус\")\n",
        "      print(\"9. Косинус\")\n",
        "      print(\"10. Тангенс\")\n",
        "      print(\"11. Выход\")\n",
        "\n",
        "      choice = input(\"Введите номер операции: \")\n",
        "\n",
        "      if choice == '11':\n",
        "          print(\"До свидания!\")\n",
        "          break\n",
        "\n",
        "      if choice in ('1', '2', '3', '4', '5', '6', '7', '8', '9', '10'):\n",
        "          try:\n",
        "              num1 = float(input(\"Введите первое число: \"))\n",
        "              num2 = float(input(\"Введите второе число: \"))\n",
        "          except ValueError:\n",
        "              print(\"Ошибка: Введите корректные числа\")\n",
        "              continue\n",
        "\n",
        "      if choice == '1':\n",
        "            print(\"Результат:\", num1 + num2)\n",
        "      elif choice == '2':\n",
        "            print(\"Результат:\", num1 - num2)\n",
        "      elif choice == '3':\n",
        "            print(\"Результат:\", num1 * num2)\n",
        "      elif choice == '4':\n",
        "          if num2 == 0:\n",
        "              print(\"Ошибка: Деление на ноль\")\n",
        "          else:\n",
        "              print(\"Результат:\", num1 / num2)\n",
        "      elif choice == '5':\n",
        "          print(\"Результат:\", num1 ** num2)\n",
        "      elif choice == '6':\n",
        "          if num1 < 0:\n",
        "              print(\"Ошибка: Квадратный корень из отрицательного числа\")\n",
        "          else:\n",
        "              print(\"Результат:\", math.sqrt(num1))\n",
        "      elif choice == '7':\n",
        "        if num1 < 0:\n",
        "              print(\"Ошибка: Факториал отрицательного числа не определен\")\n",
        "        else:\n",
        "              print(\"Результат:\", math.factorial(int(num1)))\n",
        "      elif choice == '8':\n",
        "          print(\"Результат:\", math.sin(num1))\n",
        "      elif choice == '9':\n",
        "          print(\"Результат:\", math.cos(num1))\n",
        "      elif choice == '10':\n",
        "          if math.cos(num1) == 0:\n",
        "              print(\"Ошибка: Тангенс не определен\")\n",
        "          else:\n",
        "              print(\"Результат:\", math.sin(num1) / math.cos(num1))\n",
        "      else:\n",
        "          print(\"Ошибка: Неправильный выбор операции\")\n"
      ]
    }
  ]
}