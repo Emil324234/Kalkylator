{
  "nbformat": 4,
  "nbformat_minor": 0,
  "metadata": {
    "colab": {
      "provenance": [],
      "authorship_tag": "ABX9TyO8xYwPC90g/WHQgy+GF2Wb",
      "include_colab_link": true
    },
    "kernelspec": {
      "name": "python3",
      "display_name": "Python 3"
    },
    "language_info": {
      "name": "python"
    }
  },
  "cells": [
    {
      "cell_type": "markdown",
      "metadata": {
        "id": "view-in-github",
        "colab_type": "text"
      },
      "source": [
        "<a href=\"https://colab.research.google.com/github/Emil324234/Kalkylator/blob/main/Untitled7.ipynb\" target=\"_parent\"><img src=\"https://colab.research.google.com/assets/colab-badge.svg\" alt=\"Open In Colab\"/></a>"
      ]
    },
    {
      "cell_type": "code",
      "execution_count": null,
      "metadata": {
        "id": "S_lx_72EWVLo"
      },
      "outputs": [],
      "source": [
        "import math\n",
        "\n",
        "\n",
        "\n",
        "while True:\n",
        "      print(\"Выберите операцию:\")\n",
        "      print(\"1. Сложение\")\n",
        "      print(\"2. Вычитание\")\n",
        "      print(\"3. Умножение\")\n",
        "      print(\"4. Деление\")\n",
        "      print(\"5. Возведение в степень\")\n",
        "      print(\"6. Квадратный корень\")\n",
        "      print(\"7. Факториал\")\n",
        "      print(\"8. Синус\")\n",
        "      print(\"9. Косинус\")\n",
        "      print(\"10. Тангенс\")\n",
        "      print(\"11. Выход\")\n",
        "\n",
        "      choice = input(\"Введите номер операции: \")\n",
        "\n",
        "      if choice == '11':\n",
        "          print(\"До свидания!\")\n",
        "          break\n",
        "\n",
        "      if choice in ('1', '2', '3', '4', '5', '6', '7', '8', '9', '10'):\n",
        "          try:\n",
        "              num1 = float(input(\"Введите первое число: \"))\n",
        "              num2 = float(input(\"Введите второе число: \"))\n",
        "          except ValueError:\n",
        "              print(\"Ошибка: Введите корректные числа\")\n",
        "              continue\n",
        "\n",
        "      if choice == '1':\n",
        "            print(\"Результат:\", num1 + num2)\n",
        "      elif choice == '2':\n",
        "            print(\"Результат:\", num1 - num2)\n",
        "      elif choice == '3':\n",
        "            print(\"Результат:\", num1 * num2)\n",
        "      elif choice == '4':\n",
        "          if num2 == 0:\n",
        "              print(\"Ошибка: Деление на ноль\")\n",
        "          else:\n",
        "              print(\"Результат:\", num1 / num2)\n",
        "      elif choice == '5':\n",
        "          print(\"Результат:\", num1 ** num2)\n",
        "      elif choice == '6':\n",
        "          if num1 < 0:\n",
        "              print(\"Ошибка: Квадратный корень из отрицательного числа\")\n",
        "          else:\n",
        "              print(\"Результат:\", math.sqrt(num1))\n",
        "      elif choice == '7':\n",
        "        if num1 < 0:\n",
        "              print(\"Ошибка: Факториал отрицательного числа не определен\")\n",
        "        else:\n",
        "              print(\"Результат:\", math.factorial(int(num1)))\n",
        "      elif choice == '8':\n",
        "          print(\"Результат:\", math.sin(num1))\n",
        "      elif choice == '9':\n",
        "          print(\"Результат:\", math.cos(num1))\n",
        "      elif choice == '10':\n",
        "          if math.cos(num1) == 0:\n",
        "              print(\"Ошибка: Тангенс не определен\")\n",
        "          else:\n",
        "              print(\"Результат:\", math.sin(num1) / math.cos(num1))\n",
        "      else:\n",
        "          print(\"Ошибка: Неправильный выбор операции\")\n"
      ]
    }
  ]
}